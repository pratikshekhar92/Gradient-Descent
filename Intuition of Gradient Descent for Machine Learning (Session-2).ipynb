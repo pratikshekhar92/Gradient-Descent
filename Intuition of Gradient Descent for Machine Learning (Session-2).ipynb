{
 "cells": [
  {
   "cell_type": "code",
   "execution_count": 1,
   "metadata": {},
   "outputs": [
    {
     "name": "stdout",
     "output_type": "stream",
     "text": [
      "[-6 -5 -4 -3 -2 -1  0  1  2  3  4  5  6]\n",
      "[41 30 21 14  9  6  5  6  9 14 21 30 41]\n"
     ]
    }
   ],
   "source": [
    "import numpy as np\n",
    "\n",
    "def func(x):\n",
    "    return x**2+5\n",
    "\n",
    "x = np.array([-6,-5,-4,-3,-2,-1,0,1,2,3,4,5,6])\n",
    "y = func(x)\n",
    "\n",
    "print(x)\n",
    "print(y)"
   ]
  },
  {
   "cell_type": "code",
   "execution_count": 2,
   "metadata": {},
   "outputs": [],
   "source": [
    "%matplotlib inline\n",
    "import matplotlib.pyplot as plt\n",
    "import seaborn as sns; sns.set()"
   ]
  },
  {
   "cell_type": "code",
   "execution_count": 3,
   "metadata": {},
   "outputs": [
    {
     "data": {
      "image/png": "[encoded data removed]",
      "text/plain": [
       "<Figure size 432x288 with 1 Axes>"
      ]
     },
     "metadata": {
      "needs_background": "light"
     },
     "output_type": "display_data"
    }
   ],
   "source": [
    "plt.plot(x,y,marker='o',color='b',linestyle='-');\n",
    "plt.plot(x, y, 'o', color='r');"
   ]
  },
  {
   "cell_type": "code",
   "execution_count": 4,
   "metadata": {},
   "outputs": [],
   "source": [
    "#!pip install sympy"
   ]
  },
  {
   "cell_type": "code",
   "execution_count": 5,
   "metadata": {},
   "outputs": [
    {
     "name": "stdout",
     "output_type": "stream",
     "text": [
      "2*x\n"
     ]
    }
   ],
   "source": [
    "import sympy as sp\n",
    "\n",
    "x = sp.Symbol('x')\n",
    "\n",
    "f = x**2 + 5\n",
    "f_prime = f.diff(x)\n",
    "\n",
    "print(f_prime)"
   ]
  },
  {
   "cell_type": "code",
   "execution_count": 6,
   "metadata": {},
   "outputs": [
    {
     "name": "stdout",
     "output_type": "stream",
     "text": [
      "iterations = 5000 \n",
      "x =  0.00026968555624761565\n"
     ]
    }
   ],
   "source": [
    "gamma = 0.001  \n",
    "x = 6\n",
    "iterations = 5000\n",
    "    \n",
    "for i in range(0,iterations):\n",
    "    x_gradient = 2*x\n",
    "    x1 = x - gamma * x_gradient\n",
    "    x = x1\n",
    "        \n",
    "print(\"iterations =\",iterations,\"\\nx = \",x)"
   ]
  },
  {
   "cell_type": "markdown",
   "metadata": {},
   "source": [
    "### Vectorization vs non-Vectorization"
   ]
  },
  {
   "cell_type": "code",
   "execution_count": 7,
   "metadata": {},
   "outputs": [],
   "source": [
    "import numpy as np # linear algebra\n",
    "import time"
   ]
  },
  {
   "cell_type": "code",
   "execution_count": 8,
   "metadata": {},
   "outputs": [],
   "source": [
    "# Two matrices with 10 million dimensions\n",
    "a = np.random.rand(10000000)\n",
    "b = np.random.rand(10000000)"
   ]
  },
  {
   "cell_type": "code",
   "execution_count": 9,
   "metadata": {},
   "outputs": [
    {
     "name": "stdout",
     "output_type": "stream",
     "text": [
      "Vectorized version calculation result:  2500055.6426378177\n",
      "Vectorized version process time: 184.01527404785156 ms\n"
     ]
    }
   ],
   "source": [
    "# Vectorized\n",
    "tic = time.time()\n",
    "c = np.dot(a,b)\n",
    "toc = time.time()\n",
    "print('Vectorized version calculation result: ',c)\n",
    "print('Vectorized version process time: '+ str((toc-tic)*1000)+ ' ms')"
   ]
  },
  {
   "cell_type": "code",
   "execution_count": 11,
   "metadata": {},
   "outputs": [
    {
     "name": "stdout",
     "output_type": "stream",
     "text": [
      "Non-vectorized version calculation result:  2500055.642637713\n",
      "Non-vectorized version process time: 19111.62495613098 ms\n"
     ]
    }
   ],
   "source": [
    "# Non-vectorized\n",
    "c = 0\n",
    "tic = time.time()\n",
    "for i in range(len(a)):\n",
    "    c += a[i]*b[i]\n",
    "toc = time.time()\n",
    "print('Non-vectorized version calculation result: ',c)\n",
    "print('Non-vectorized version process time: '+ str((toc-tic)*1000)+ ' ms')"
   ]
  }
 ],
 "metadata": {
  "kernelspec": {
   "display_name": "Python 3",
   "language": "python",
   "name": "python3"
  },
  "language_info": {
   "codemirror_mode": {
    "name": "ipython",
    "version": 3
   },
   "file_extension": ".py",
   "mimetype": "text/x-python",
   "name": "python",
   "nbconvert_exporter": "python",
   "pygments_lexer": "ipython3",
   "version": "3.7.3"
  }
 },
 "nbformat": 4,
 "nbformat_minor": 2
}
